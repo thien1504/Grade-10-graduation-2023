{
 "cells": [
  {
   "cell_type": "code",
   "execution_count": 1,
   "id": "4eda5551",
   "metadata": {},
   "outputs": [],
   "source": [
    "import subprocess\n",
    "import pandas as pd\n",
    "import numpy as np"
   ]
  },
  {
   "cell_type": "code",
   "execution_count": 2,
   "id": "e8da1abf",
   "metadata": {},
   "outputs": [],
   "source": [
    "def score(s, subject):\n",
    "    out = \"\"\n",
    "    index = s.find(subject)\n",
    "    \n",
    "    if subject == \"\\r\\n                Văn\":\n",
    "        step = 23\n",
    "    elif subject == \"To&#225;n\":\n",
    "        step = 11\n",
    "    elif subject == \"Ngoại Ngữ\":\n",
    "        step = 11\n",
    "    elif subject == \"M&#244;n Chuy&#234;n\":\n",
    "        step = 22\n",
    "        \n",
    "    for i in range(4):\n",
    "        if s[index+step+i] == \",\":\n",
    "            out = out + \".\"\n",
    "        elif s[index+step+i] != \" \":\n",
    "            out = out + s[index+step+i]\n",
    "        else:   \n",
    "            break\n",
    "        \n",
    "    return out.rstrip()"
   ]
  },
  {
   "cell_type": "code",
   "execution_count": 3,
   "id": "f5b8c64b",
   "metadata": {},
   "outputs": [],
   "source": [
    "# Trùng với tên thí sinh họ Văn\n",
    "list_subject = [\"\\r\\n                Văn\", \"To&#225;n\", \"Ngoại Ngữ\", \"M&#244;n Chuy&#234;n\"]"
   ]
  },
  {
   "cell_type": "code",
   "execution_count": 4,
   "id": "fe03c0b3",
   "metadata": {},
   "outputs": [],
   "source": [
    "def get_name(s, sbd):\n",
    "    if sbd < 10000:\n",
    "        index = s.find(str(sbd)) + 5\n",
    "    elif sbd < 100000:\n",
    "        index = s.find(str(sbd)) + 6\n",
    "    else:\n",
    "        index = s.find(str(sbd)) + 7\n",
    "    out = \"\"\n",
    "    while(s[index] != \"\\r\"):\n",
    "        out += s[index]\n",
    "        index += 1\n",
    "    \n",
    "    return out.rstrip()"
   ]
  },
  {
   "cell_type": "code",
   "execution_count": 5,
   "id": "2a659525",
   "metadata": {},
   "outputs": [],
   "source": [
    "output = {\"sbd\" : [],\n",
    "          \"name\" : [],\n",
    "          \"\\r\\n                Văn\" : [],\n",
    "          \"To&#225;n\" : [],\n",
    "          \"Ngoại Ngữ\" : [],\n",
    "          \"M&#244;n Chuy&#234;n\" : []}"
   ]
  },
  {
   "cell_type": "code",
   "execution_count": 6,
   "id": "ce148e86",
   "metadata": {},
   "outputs": [
    {
     "name": "stdout",
     "output_type": "stream",
     "text": [
      "CPU times: total: 375 ms\n",
      "Wall time: 2h 42min 46s\n"
     ]
    }
   ],
   "source": [
    "%%time\n",
    "for i in range(100000, 100010):\n",
    "    result = subprocess.check_output(f'curl -F \"sobaodanh={i}\" https://diemthi.hcm.edu.vn/Home/Show')\n",
    "    s = result.decode('utf-8')\n",
    "    \n",
    "    output[\"sbd\"].append(i)\n",
    "    output[\"name\"].append(get_name(s, i))\n",
    "    \n",
    "    for subject in list_subject:\n",
    "        output[subject].append(score(s, subject))"
   ]
  },
  {
   "cell_type": "code",
   "execution_count": 7,
   "id": "4cd1153f",
   "metadata": {},
   "outputs": [
    {
     "data": {
      "text/html": [
       "<div>\n",
       "<style scoped>\n",
       "    .dataframe tbody tr th:only-of-type {\n",
       "        vertical-align: middle;\n",
       "    }\n",
       "\n",
       "    .dataframe tbody tr th {\n",
       "        vertical-align: top;\n",
       "    }\n",
       "\n",
       "    .dataframe thead th {\n",
       "        text-align: right;\n",
       "    }\n",
       "</style>\n",
       "<table border=\"1\" class=\"dataframe\">\n",
       "  <thead>\n",
       "    <tr style=\"text-align: right;\">\n",
       "      <th></th>\n",
       "      <th>sbd</th>\n",
       "      <th>name</th>\n",
       "      <th>\\r\\n                Văn</th>\n",
       "      <th>To&amp;#225;n</th>\n",
       "      <th>Ngoại Ngữ</th>\n",
       "      <th>M&amp;#244;n Chuy&amp;#234;n</th>\n",
       "    </tr>\n",
       "  </thead>\n",
       "  <tbody>\n",
       "    <tr>\n",
       "      <th>0</th>\n",
       "      <td>9000</td>\n",
       "      <td>LƯƠNG THỊ THU&amp;#221; AN</td>\n",
       "      <td>6.5</td>\n",
       "      <td>5</td>\n",
       "      <td>8.25</td>\n",
       "      <td>2.5</td>\n",
       "    </tr>\n",
       "    <tr>\n",
       "      <th>1</th>\n",
       "      <td>9001</td>\n",
       "      <td>PHẠM B&amp;#217;I MINH AN</td>\n",
       "      <td></td>\n",
       "      <td></td>\n",
       "      <td></td>\n",
       "      <td></td>\n",
       "    </tr>\n",
       "    <tr>\n",
       "      <th>2</th>\n",
       "      <td>9002</td>\n",
       "      <td>L&amp;#202; TUẤN ANH</td>\n",
       "      <td></td>\n",
       "      <td></td>\n",
       "      <td></td>\n",
       "      <td></td>\n",
       "    </tr>\n",
       "    <tr>\n",
       "      <th>3</th>\n",
       "      <td>9003</td>\n",
       "      <td>MAI TRẦN HO&amp;#192;N ANH</td>\n",
       "      <td></td>\n",
       "      <td></td>\n",
       "      <td></td>\n",
       "      <td></td>\n",
       "    </tr>\n",
       "    <tr>\n",
       "      <th>4</th>\n",
       "      <td>9004</td>\n",
       "      <td>NGUYỄN V&amp;#194;N ANH</td>\n",
       "      <td>6.5</td>\n",
       "      <td>5.75</td>\n",
       "      <td>7.75</td>\n",
       "      <td>1.75</td>\n",
       "    </tr>\n",
       "  </tbody>\n",
       "</table>\n",
       "</div>"
      ],
      "text/plain": [
       "    sbd                    name \\r\\n                Văn To&#225;n Ngoại Ngữ  \\\n",
       "0  9000  LƯƠNG THỊ THU&#221; AN                     6.5         5      8.25   \n",
       "1  9001   PHẠM B&#217;I MINH AN                                               \n",
       "2  9002        L&#202; TUẤN ANH                                               \n",
       "3  9003  MAI TRẦN HO&#192;N ANH                                               \n",
       "4  9004     NGUYỄN V&#194;N ANH                     6.5      5.75      7.75   \n",
       "\n",
       "  M&#244;n Chuy&#234;n  \n",
       "0                  2.5  \n",
       "1                       \n",
       "2                       \n",
       "3                       \n",
       "4                 1.75  "
      ]
     },
     "execution_count": 7,
     "metadata": {},
     "output_type": "execute_result"
    }
   ],
   "source": [
    "df = pd.DataFrame(output)\n",
    "df.head()"
   ]
  },
  {
   "cell_type": "code",
   "execution_count": 8,
   "id": "beb7083e",
   "metadata": {},
   "outputs": [],
   "source": [
    "df.to_csv(\"file_out.csv\")"
   ]
  },
  {
   "cell_type": "code",
   "execution_count": null,
   "id": "81315bb8",
   "metadata": {},
   "outputs": [],
   "source": []
  }
 ],
 "metadata": {
  "kernelspec": {
   "display_name": "Python 3 (ipykernel)",
   "language": "python",
   "name": "python3"
  },
  "language_info": {
   "codemirror_mode": {
    "name": "ipython",
    "version": 3
   },
   "file_extension": ".py",
   "mimetype": "text/x-python",
   "name": "python",
   "nbconvert_exporter": "python",
   "pygments_lexer": "ipython3",
   "version": "3.9.16"
  }
 },
 "nbformat": 4,
 "nbformat_minor": 5
}
